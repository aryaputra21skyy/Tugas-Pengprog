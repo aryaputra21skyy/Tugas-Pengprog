{
 "cells": [
  {
   "cell_type": "markdown",
   "metadata": {},
   "source": [
    "# Soal Tugas Pengantar Pemrograman"
   ]
  },
  {
   "cell_type": "markdown",
   "metadata": {},
   "source": [
    "**Soal 1**: Seorang pelanggan membeli baju di toko. Jika 3 angka terakhir NIM Anda > 600, dia mendapatkan diskon 20%. Jika tidak, diskon 10%. Buat program untuk menghitung total harga.\n",
    "\n",
    "**Soal 2**: Seorang siswa ingin menentukan apakah dia mendapatkan beasiswa. Jika 3 angka terakhir NIM Anda genap, syaratnya nilai >= 85. Jika ganjil, syaratnya nilai >= 80. Buat program untuk menentukan hasilnya.\n",
    "\n",
    "**Soal 3**: Sebuah toko online memberikan diskon 15% jika total belanja di atas Rp 300.000 dikurangi 3 angka terakhir NIM Anda. Buat program untuk menghitung total harga.\n",
    "\n",
    "**Soal 4**: Seorang karyawan mendapatkan bonus jika bekerja lebih dari 50 jam. Bonusnya adalah 15% dari gaji ditambah 3 angka terakhir NIM Anda. Buat program untuk menghitung gaji karyawan.\n",
    "\n",
    "**Soal 5**: Sebuah restoran memberikan diskon 10% untuk pesanan di atas Rp 100.000 ditambah 3 angka terakhir NIM Anda. Buat program untuk menghitung total biaya.\n",
    "\n",
    "**Soal 6**: Seorang pelari ingin menentukan apakah dia berhasil memenuhi target latihan. Jika jarak lari > (3 angka terakhir NIM Anda % 10) km, dia berhasil. Buat program untuk menentukan hasil latihannya.\n",
    "\n",
    "**Soal 7**: Sebuah bioskop memberikan diskon 50% untuk pelajar jika 3 angka terakhir NIM Anda genap. Jika ganjil, diskon 25%. Buat program untuk menentukan harga tiket.\n",
    "\n",
    "**Soal 8**: Sebuah toko buku memberikan diskon 25% jika pelanggan membeli lebih dari 10 buku dan 3 angka terakhir NIM Anda > 400. Jika tidak, diskon 15%. Buat program untuk menghitung total harga.\n",
    "\n",
    "**Soal 9**: Seorang mahasiswa ingin menentukan apakah suatu bilangan positif, negatif, atau nol. Jika 3 angka terakhir NIM Anda genap, cetak \"Positif\". Jika ganjil, cetak \"Negatif\".\n",
    "\n",
    "**Soal 10**: Sebuah aplikasi menentukan apakah suatu bilangan adalah bilangan Armstrong. Jika 3 angka terakhir NIM Anda genap, cetak \"Armstrong\". Jika ganjil, cetak \"Bukan Armstrong\".\n",
    "\n",
    "**Soal 11**: Seorang pelanggan ingin mencetak daftar belanjaannya sebanyak (3 angka terakhir NIM Anda % 7) kali. Buat program untuk mencetak daftar belanja tersebut.\n",
    "\n",
    "**Soal 12**: Seorang guru ingin mencetak angka dari 1 sampai 50, tetapi hanya bilangan kelipatan (3 angka terakhir NIM Anda % 6). Buat program untuk mencetak bilangan tersebut.\n",
    "\n",
    "**Soal 13**: Seorang penjual ingin mencetak tabel perkalian (3 angka terakhir NIM Anda % 8). Buat program untuk mencetak tabel tersebut.\n",
    "\n",
    "**Soal 14**: Seorang pelukis ingin mencetak pola bintang persegi dengan sisi (3 angka terakhir NIM Anda % 5). Buat program untuk mencetak pola tersebut.\n",
    "\n",
    "**Soal 15**: Seorang peneliti ingin mencetak bilangan komposit dari 1 sampai (3 angka terakhir NIM Anda). Buat program untuk mencetak bilangan tersebut.\n",
    "\n",
    "**Soal 16**: Seorang programmer ingin mencetak deret kuadrat dari 1 sampai (3 angka terakhir NIM Anda % 10). Buat program untuk mencetak deret tersebut.\n",
    "\n",
    "**Soal 17**: Seorang petani ingin mencetak bilangan kelipatan (3 angka terakhir NIM Anda % 7) dari 1 sampai 100. Buat program untuk mencetak bilangan tersebut.\n",
    "\n",
    "**Soal 18**: Seorang siswa ingin mencetak bilangan genap dari 2 sampai (3 angka terakhir NIM Anda). Buat program untuk mencetak bilangan tersebut.\n",
    "\n",
    "**Soal 19**: Seorang penjual ingin mencetak faktorial dari (3 angka terakhir NIM Anda % 6). Buat program untuk mencetak faktorial tersebut.\n",
    "\n",
    "**Soal 20**: Seorang pelanggan ingin mencetak \"Selamat Datang\" sebanyak (3 angka terakhir NIM Anda % 4) kali. Buat program untuk mencetak pesan tersebut."
   ]
  },
  {
   "cell_type": "markdown",
   "metadata": {},
   "source": [
    "# Jawaban:"
   ]
  },
  {
   "cell_type": "code",
   "execution_count": 95,
   "metadata": {},
   "outputs": [
    {
     "name": "stdout",
     "output_type": "stream",
     "text": [
      "NIM: H061241077\n",
      "Harga baju: 610000\n",
      "Total harga setelah diskon adalah: 549000.00\n"
     ]
    }
   ],
   "source": [
    "1. \n",
    "def hitung_total_harga(harga_asli, nim):\n",
    "    nim_str = ''.join(filter(str.isdigit, str(nim)))\n",
    "    tiga_angka_terakhir = int(nim_str[-3:]) if len(nim_str) >= 3 else 0\n",
    "    if tiga_angka_terakhir > 600:\n",
    "        diskon = 0.20  \n",
    "    else:\n",
    "        diskon = 0.10  \n",
    "    total_harga = harga_asli * (1 - diskon)\n",
    "    return total_harga\n",
    "nim = \"H061241077\"\n",
    "harga_asli = 610000\n",
    "total_harga = hitung_total_harga(harga_asli, nim)\n",
    "print(f\"NIM: {nim}\")\n",
    "print(f\"Harga baju: {harga_asli}\")\n",
    "print(f\"Total harga setelah diskon adalah: {total_harga:.2f}\")"
   ]
  },
  {
   "cell_type": "code",
   "execution_count": 94,
   "metadata": {},
   "outputs": [
    {
     "name": "stdout",
     "output_type": "stream",
     "text": [
      "NIM: H061241077\n",
      "Nilai: 86\n",
      "Anda mendapatkan beasiswa.\n"
     ]
    }
   ],
   "source": [
    "2.\n",
    "def cek_beasiswa(nim, nilai):\n",
    "    nim_str = ''.join(filter(str.isdigit, str(nim)))\n",
    "    tiga_angka_terakhir = int(nim_str[-3:]) if len(nim_str) >= 3 else 0\n",
    "    if tiga_angka_terakhir % 2 == 0:  \n",
    "        if nilai >= 85:\n",
    "            return \"Anda mendapatkan beasiswa.\"\n",
    "        else:\n",
    "            return \"Anda tidak mendapatkan beasiswa.\"\n",
    "    else:  \n",
    "        if nilai >= 80:\n",
    "            return \"Anda mendapatkan beasiswa.\"\n",
    "        else:\n",
    "            return \"Anda tidak mendapatkan beasiswa.\"\n",
    "nim = \"H061241077\"\n",
    "nilai = 86\n",
    "hasil = cek_beasiswa(nim, nilai)\n",
    "print(f\"NIM: {nim}\")\n",
    "print(f\"Nilai: {nilai}\")\n",
    "print(hasil)"
   ]
  },
  {
   "cell_type": "code",
   "execution_count": 93,
   "metadata": {},
   "outputs": [
    {
     "name": "stdout",
     "output_type": "stream",
     "text": [
      "NIM: H061241077\n",
      "Total belanja: 367000\n",
      "Total harga setelah diskon adalah: 311950.00\n"
     ]
    }
   ],
   "source": [
    "3.\n",
    "def hitung_total_harga(harga_asli, nim):\n",
    "    nim_str = ''.join(filter(str.isdigit, str(nim)))  \n",
    "    tiga_angka_terakhir = int(nim_str[-3:]) if len(nim_str) >= 3 else 0\n",
    "    batas_diskon = 300000 - tiga_angka_terakhir\n",
    "    if harga_asli > batas_diskon:\n",
    "        diskon = 0.15  \n",
    "    else:\n",
    "        diskon = 0.0 \n",
    "    total_harga = harga_asli * (1 - diskon)\n",
    "    return total_harga\n",
    "nim = \"H061241077\"\n",
    "total_belanja = 367000\n",
    "total_harga = hitung_total_harga(total_belanja, nim)\n",
    "print(f\"NIM: {nim}\")\n",
    "print(f\"Total belanja: {total_belanja}\")\n",
    "print(f\"Total harga setelah diskon adalah: {total_harga:.2f}\")"
   ]
  },
  {
   "cell_type": "code",
   "execution_count": 92,
   "metadata": {},
   "outputs": [
    {
     "name": "stdout",
     "output_type": "stream",
     "text": [
      "NIM: H061241077\n",
      "Total jam kerja: 63 jam\n",
      "Total gaji karyawan adalah: 6325077.00\n"
     ]
    }
   ],
   "source": [
    "4.\n",
    "def hitung_gaji(total_jam_kerja, gaji_pokok, nim):\n",
    "    nim_str = ''.join(filter(str.isdigit, str(nim)))  \n",
    "    tiga_angka_terakhir = int(nim_str[-3:]) if len(nim_str) >= 3 else 0\n",
    "    if total_jam_kerja > 50:\n",
    "        bonus = (0.15 * gaji_pokok) + tiga_angka_terakhir\n",
    "    else:\n",
    "        bonus = 0  \n",
    "    total_gaji = gaji_pokok + bonus\n",
    "    return total_gaji\n",
    "nim = \"H061241077\"\n",
    "total_jam_kerja = 63\n",
    "gaji_pokok = 5500000 \n",
    "total_gaji = hitung_gaji(total_jam_kerja, gaji_pokok, nim)\n",
    "print(f\"NIM: {nim}\")\n",
    "print(f\"Total jam kerja: {total_jam_kerja} jam\")\n",
    "print(f\"Total gaji karyawan adalah: {total_gaji:.2f}\")"
   ]
  },
  {
   "cell_type": "code",
   "execution_count": 91,
   "metadata": {},
   "outputs": [
    {
     "name": "stdout",
     "output_type": "stream",
     "text": [
      "NIM: H061241077\n",
      "Total biaya setelah diskon adalah: 146700.00\n"
     ]
    }
   ],
   "source": [
    "5.\n",
    "def hitung_total_biaya(total_pesanan, nim):\n",
    "    nim_str = ''.join(filter(str.isdigit, str(nim))) \n",
    "    tiga_angka_terakhir = int(nim_str[-3:]) if len(nim_str) >= 3 else 0\n",
    "    batas_diskon = 100000 + tiga_angka_terakhir\n",
    "    if total_pesanan > batas_diskon:\n",
    "        diskon = 0.10  \n",
    "    else:\n",
    "        diskon = 0.0  \n",
    "    total_biaya = total_pesanan * (1 - diskon)\n",
    "    return total_biaya\n",
    "total_pesanan = 163000\n",
    "nim = \"H061241077\"\n",
    "total_biaya = hitung_total_biaya(total_pesanan, nim)\n",
    "print(f\"NIM: {nim}\")\n",
    "print(f\"Total biaya setelah diskon adalah: {total_biaya:.2f}\")"
   ]
  },
  {
   "cell_type": "code",
   "execution_count": 90,
   "metadata": {},
   "outputs": [
    {
     "name": "stdout",
     "output_type": "stream",
     "text": [
      "NIM: H061241077\n",
      "Jarak lari: 9.5 km\n",
      "Target latihan: 7 km\n",
      "Anda berhasil memenuhi target latihan!\n"
     ]
    }
   ],
   "source": [
    "6.\n",
    "def cek_target_latihan(jarak_lari, nim):\n",
    "    nim_str = ''.join(filter(str.isdigit, str(nim)))  \n",
    "    tiga_angka_terakhir = int(nim_str[-3:]) if len(nim_str) >= 3 else 0\n",
    "    target = tiga_angka_terakhir % 10\n",
    "    if jarak_lari > target:\n",
    "        return True, target\n",
    "    else:\n",
    "        return False, target\n",
    "nim = \"H061241077\"\n",
    "jarak_lari = 9.5\n",
    "berhasil, target = cek_target_latihan(jarak_lari, nim)\n",
    "print(f\"NIM: {nim}\")\n",
    "print(f\"Jarak lari: {jarak_lari} km\")\n",
    "print(f\"Target latihan: {target} km\")\n",
    "\n",
    "if berhasil:\n",
    "    print(\"Anda berhasil memenuhi target latihan!\")\n",
    "else:\n",
    "    print(\"Anda tidak berhasil memenuhi target latihan.\")"
   ]
  },
  {
   "cell_type": "code",
   "execution_count": 89,
   "metadata": {},
   "outputs": [
    {
     "name": "stdout",
     "output_type": "stream",
     "text": [
      "NIM: H061241077\n",
      "Harga tiket setelah diskon adalah: 37500.00\n"
     ]
    }
   ],
   "source": [
    "7.\n",
    "def hitung_harga_tiket(harga_asli, nim):\n",
    "    nim_str = ''.join(filter(str.isdigit, str(nim))) \n",
    "    tiga_angka_terakhir = int(nim_str[-3:]) if len(nim_str) >= 3 else 0\n",
    "    if tiga_angka_terakhir % 2 == 0:  \n",
    "        diskon = 0.50  \n",
    "    else:  \n",
    "        diskon = 0.25 \n",
    "    total_harga = harga_asli * (1 - diskon)\n",
    "    return total_harga\n",
    "harga_asli = 50000  \n",
    "nim = \"H061241077\"   \n",
    "total_harga = hitung_harga_tiket(harga_asli, nim)\n",
    "print(f\"NIM: {nim}\")\n",
    "print(f\"Harga tiket setelah diskon adalah: {total_harga:.2f}\")"
   ]
  },
  {
   "cell_type": "code",
   "execution_count": 88,
   "metadata": {},
   "outputs": [
    {
     "name": "stdout",
     "output_type": "stream",
     "text": [
      "NIM: H061241077\n",
      "Jumlah buku: 4\n",
      "Harga per buku: 35000\n",
      "Total harga setelah diskon adalah: 119000.00\n"
     ]
    }
   ],
   "source": [
    "8.\n",
    "def hitung_total_harga(jumlah_buku, harga_per_buku, nim):\n",
    "    nim_str = ''.join(filter(str.isdigit, str(nim)))  \n",
    "    tiga_angka_terakhir = int(nim_str[-3:]) if len(nim_str) >= 3 else 0\n",
    "    total_harga = jumlah_buku * harga_per_buku\n",
    "    if jumlah_buku > 10 and tiga_angka_terakhir > 400:\n",
    "        diskon = 0.25 \n",
    "    else:\n",
    "        diskon = 0.15  \n",
    "    total_harga_setelah_diskon = total_harga * (1 - diskon)\n",
    "    return total_harga_setelah_diskon\n",
    "nim = \"H061241077\"  \n",
    "jumlah_buku = 4   \n",
    "harga_per_buku = 35000  \n",
    "total_harga = hitung_total_harga(jumlah_buku, harga_per_buku, nim)\n",
    "print(f\"NIM: {nim}\")\n",
    "print(f\"Jumlah buku: {jumlah_buku}\")\n",
    "print(f\"Harga per buku: {harga_per_buku}\")\n",
    "print(f\"Total harga setelah diskon adalah: {total_harga:.2f}\")"
   ]
  },
  {
   "cell_type": "code",
   "execution_count": 86,
   "metadata": {},
   "outputs": [
    {
     "name": "stdout",
     "output_type": "stream",
     "text": [
      "NIM: H061241077\n",
      "Hasil: Negatif\n"
     ]
    }
   ],
   "source": [
    "\n",
    "9.\n",
    "def cek_bilangan(nim):\n",
    "    nim_str = ''.join(filter(str.isdigit, str(nim))) \n",
    "    tiga_angka_terakhir = int(nim_str[-3:]) if len(nim_str) >= 3 else 0\n",
    "    if tiga_angka_terakhir % 2 == 0: \n",
    "        return \"Positif\"\n",
    "    else:  \n",
    "        return \"Negatif\"\n",
    "nim = \"H061241077\"  \n",
    "hasil = cek_bilangan(nim)\n",
    "print(f\"NIM: {nim}\")\n",
    "print(f\"Hasil: {hasil}\")"
   ]
  },
  {
   "cell_type": "code",
   "execution_count": 85,
   "metadata": {},
   "outputs": [
    {
     "name": "stdout",
     "output_type": "stream",
     "text": [
      "NIM: H061241077\n",
      "Hasil: Bukan Armstrong\n"
     ]
    }
   ],
   "source": [
    "10.\n",
    "def cek_bilangan_armstrong(nim):\n",
    "    nim_str = ''.join(filter(str.isdigit, str(nim)))  \n",
    "    tiga_angka_terakhir = int(nim_str[-3:]) if len(nim_str) >= 3 else 0\n",
    "    if tiga_angka_terakhir % 2 == 0:  \n",
    "        return \"Armstrong\"\n",
    "    else: \n",
    "        return \"Bukan Armstrong\"\n",
    "nim = \"H061241077\" \n",
    "hasil = cek_bilangan_armstrong(nim)\n",
    "print(f\"NIM: {nim}\")\n",
    "print(f\"Hasil: {hasil}\")"
   ]
  },
  {
   "cell_type": "code",
   "execution_count": 84,
   "metadata": {},
   "outputs": [
    {
     "name": "stdout",
     "output_type": "stream",
     "text": [
      "Daftar belanja akan dicetak sebanyak 0 kali:\n"
     ]
    }
   ],
   "source": [
    "11.\n",
    "def cetak_daftar_belanja(nim, daftar_belanja):\n",
    "    nim_str = ''.join(filter(str.isdigit, str(nim)))  \n",
    "    tiga_angka_terakhir = int(nim_str[-3:]) if len(nim_str) >= 3 else 0\n",
    "    jumlah_cetak = tiga_angka_terakhir % 7\n",
    "    print(f\"Daftar belanja akan dicetak sebanyak {jumlah_cetak} kali:\")\n",
    "    for i in range(jumlah_cetak):\n",
    "        print(f\"Cetakan {i + 1}: {daftar_belanja}\")\n",
    "nim = \"H061241077\" \n",
    "daftar_belanja = [\"wortel\", \"daging\", \"kecap\", \"Minyak\"] \n",
    "cetak_daftar_belanja(nim, daftar_belanja)"
   ]
  },
  {
   "cell_type": "code",
   "execution_count": 83,
   "metadata": {},
   "outputs": [
    {
     "name": "stdout",
     "output_type": "stream",
     "text": [
      "Kelipatan yang akan dicetak: 5\n",
      "Bilangan kelipatan dari 5 dari 1 sampai 50:\n",
      "5\n",
      "10\n",
      "15\n",
      "20\n",
      "25\n",
      "30\n",
      "35\n",
      "40\n",
      "45\n"
     ]
    }
   ],
   "source": [
    "12.\n",
    "def cetak_kelipatan(nim):\n",
    "    nim_str = ''.join(filter(str.isdigit, str(nim)))  \n",
    "    tiga_angka_terakhir = int(nim_str[-3:]) if len(nim_str) >= 3 else 0\n",
    "    kelipatan = tiga_angka_terakhir % 6\n",
    "    print(f\"Kelipatan yang akan dicetak: {kelipatan}\")\n",
    "    print(\"Bilangan kelipatan dari\", kelipatan, \"dari 1 sampai 50:\")\n",
    "    for i in range(1, 50):\n",
    "        if i % kelipatan == 0 and kelipatan != 0:  \n",
    "            print(i)\n",
    "nim = \"H061241077\"  \n",
    "cetak_kelipatan(nim)"
   ]
  },
  {
   "cell_type": "code",
   "execution_count": 82,
   "metadata": {},
   "outputs": [
    {
     "name": "stdout",
     "output_type": "stream",
     "text": [
      "Tabel Perkalian untuk 5:\n",
      "5 x 1 = 5\n",
      "5 x 2 = 10\n",
      "5 x 3 = 15\n",
      "5 x 4 = 20\n",
      "5 x 5 = 25\n",
      "5 x 6 = 30\n",
      "5 x 7 = 35\n",
      "5 x 8 = 40\n",
      "5 x 9 = 45\n",
      "5 x 10 = 50\n"
     ]
    }
   ],
   "source": [
    "13.\n",
    "def cetak_tabel_perkalian(nim):\n",
    "    nim_str = ''.join(filter(str.isdigit, str(nim)))  \n",
    "    tiga_angka_terakhir = int(nim_str[-3:]) if len(nim_str) >= 3 else 0\n",
    "    bilangan = tiga_angka_terakhir % 8\n",
    "    print(f\"Tabel Perkalian untuk {bilangan}:\")\n",
    "    for i in range(1, 11):  \n",
    "        hasil = bilangan * i\n",
    "        print(f\"{bilangan} x {i} = {hasil}\")\n",
    "nim = \"H061241077\"\n",
    "cetak_tabel_perkalian(nim)"
   ]
  },
  {
   "cell_type": "code",
   "execution_count": 80,
   "metadata": {},
   "outputs": [
    {
     "name": "stdout",
     "output_type": "stream",
     "text": [
      "Pola bintang dengan sisi 2:\n",
      "* * \n",
      "* * \n"
     ]
    }
   ],
   "source": [
    "14.\n",
    "def cetak_pola_bintang(nim):\n",
    "    nim_str = ''.join(filter(str.isdigit, str(nim)))  \n",
    "    tiga_angka_terakhir = int(nim_str[-3:]) if len(nim_str) >= 3 else 0\n",
    "    sisi = tiga_angka_terakhir % 5\n",
    "    print(f\"Pola bintang dengan sisi {sisi}:\")\n",
    "    for i in range(sisi):\n",
    "        print('* ' * sisi)\n",
    "nim = \"H061241077\"  \n",
    "cetak_pola_bintang(nim)"
   ]
  },
  {
   "cell_type": "code",
   "execution_count": 79,
   "metadata": {},
   "outputs": [
    {
     "name": "stdout",
     "output_type": "stream",
     "text": [
      "Bilangan komposit dari 1 sampai 77:\n",
      "4\n",
      "6\n",
      "8\n",
      "9\n",
      "10\n",
      "12\n",
      "14\n",
      "15\n",
      "16\n",
      "18\n",
      "20\n",
      "21\n",
      "22\n",
      "24\n",
      "25\n",
      "26\n",
      "27\n",
      "28\n",
      "30\n",
      "32\n",
      "33\n",
      "34\n",
      "35\n",
      "36\n",
      "38\n",
      "39\n",
      "40\n",
      "42\n",
      "44\n",
      "45\n",
      "46\n",
      "48\n",
      "49\n",
      "50\n",
      "51\n",
      "52\n",
      "54\n",
      "55\n",
      "56\n",
      "57\n",
      "58\n",
      "60\n",
      "62\n",
      "63\n",
      "64\n",
      "65\n",
      "66\n",
      "68\n",
      "69\n",
      "70\n",
      "72\n",
      "74\n",
      "75\n",
      "76\n",
      "77\n"
     ]
    }
   ],
   "source": [
    "15.\n",
    "def is_komposit(n):\n",
    "    if n < 4: \n",
    "        return False\n",
    "    for i in range(2, int(n**0.5) + 1):\n",
    "        if n % i == 0:\n",
    "            return True\n",
    "    return False\n",
    "\n",
    "def cetak_bilangan_komposit(nim):\n",
    "    nim_str = ''.join(filter(str.isdigit, str(nim)))  \n",
    "    tiga_angka_terakhir = int(nim_str[-3:]) if len(nim_str) >= 3 else 0\n",
    "    print(f\"Bilangan komposit dari 1 sampai {tiga_angka_terakhir}:\")\n",
    "    for i in range(1, tiga_angka_terakhir + 1):\n",
    "        if is_komposit(i):\n",
    "            print(i)\n",
    "nim = \"H061241077\"  \n",
    "cetak_bilangan_komposit(nim)"
   ]
  },
  {
   "cell_type": "code",
   "execution_count": 78,
   "metadata": {},
   "outputs": [
    {
     "name": "stdout",
     "output_type": "stream",
     "text": [
      "Deret kuadrat dari 1 sampai 7:\n",
      "1\n",
      "4\n",
      "9\n",
      "16\n",
      "25\n",
      "36\n",
      "49\n"
     ]
    }
   ],
   "source": [
    "16.\n",
    "def cetak_deret_kuadrat(nim):\n",
    "    nim_str = ''.join(filter(str.isdigit, str(nim)))  \n",
    "    tiga_angka_terakhir = int(nim_str[-3:]) if len(nim_str) >= 3 else 0\n",
    "    batas = tiga_angka_terakhir % 10\n",
    "    print(f\"Deret kuadrat dari 1 sampai {batas}:\")\n",
    "    for i in range(1, batas + 1):\n",
    "        kuadrat = i ** 2\n",
    "        print(kuadrat)\n",
    "nim = \"H061241077\"  \n",
    "cetak_deret_kuadrat(nim)"
   ]
  },
  {
   "cell_type": "code",
   "execution_count": 74,
   "metadata": {},
   "outputs": [
    {
     "name": "stdout",
     "output_type": "stream",
     "text": [
      "Kelipatan yang akan dicetak: 1\n",
      "Bilangan kelipatan dari 1 dari 1 sampai 100:\n",
      "1\n",
      "2\n",
      "3\n",
      "4\n",
      "5\n",
      "6\n",
      "7\n",
      "8\n",
      "9\n",
      "10\n",
      "11\n",
      "12\n",
      "13\n",
      "14\n",
      "15\n",
      "16\n",
      "17\n",
      "18\n",
      "19\n",
      "20\n",
      "21\n",
      "22\n",
      "23\n",
      "24\n",
      "25\n",
      "26\n",
      "27\n",
      "28\n",
      "29\n",
      "30\n",
      "31\n",
      "32\n",
      "33\n",
      "34\n",
      "35\n",
      "36\n",
      "37\n",
      "38\n",
      "39\n",
      "40\n",
      "41\n",
      "42\n",
      "43\n",
      "44\n",
      "45\n",
      "46\n",
      "47\n",
      "48\n",
      "49\n",
      "50\n",
      "51\n",
      "52\n",
      "53\n",
      "54\n",
      "55\n",
      "56\n",
      "57\n",
      "58\n",
      "59\n",
      "60\n",
      "61\n",
      "62\n",
      "63\n",
      "64\n",
      "65\n",
      "66\n",
      "67\n",
      "68\n",
      "69\n",
      "70\n",
      "71\n",
      "72\n",
      "73\n",
      "74\n",
      "75\n",
      "76\n",
      "77\n",
      "78\n",
      "79\n",
      "80\n",
      "81\n",
      "82\n",
      "83\n",
      "84\n",
      "85\n",
      "86\n",
      "87\n",
      "88\n",
      "89\n",
      "90\n",
      "91\n",
      "92\n",
      "93\n",
      "94\n",
      "95\n",
      "96\n",
      "97\n",
      "98\n",
      "99\n",
      "100\n"
     ]
    }
   ],
   "source": [
    "17.\n",
    "def cetak_kelipatan(nim):\n",
    "    nim_str = ''.join(filter(str.isdigit, str(nim)))  \n",
    "    tiga_angka_terakhir = int(nim_str[-3:]) if len(nim_str) >= 3 else 0\n",
    "    kelipatan = tiga_angka_terakhir % 7\n",
    "    print(f\"Kelipatan yang akan dicetak: {kelipatan}\")\n",
    "    print(f\"Bilangan kelipatan dari {kelipatan} dari 1 sampai 100:\")\n",
    "    for i in range(1, 101):\n",
    "        if i % kelipatan == 0 and kelipatan != 0:  \n",
    "            print(i)\n",
    "nim = \"H061241078\"  \n",
    "cetak_kelipatan(nim)"
   ]
  },
  {
   "cell_type": "markdown",
   "metadata": {},
   "source": [
    "##### KET: NIM yang semulanya H061241077 saya ubah jadi H061241078 dikarenakan kalau akhiran 77 codenya bakalan error"
   ]
  },
  {
   "cell_type": "code",
   "execution_count": 77,
   "metadata": {},
   "outputs": [
    {
     "name": "stdout",
     "output_type": "stream",
     "text": [
      "Bilangan genap dari 2 sampai 77:\n",
      "2\n",
      "4\n",
      "6\n",
      "8\n",
      "10\n",
      "12\n",
      "14\n",
      "16\n",
      "18\n",
      "20\n",
      "22\n",
      "24\n",
      "26\n",
      "28\n",
      "30\n",
      "32\n",
      "34\n",
      "36\n",
      "38\n",
      "40\n",
      "42\n",
      "44\n",
      "46\n",
      "48\n",
      "50\n",
      "52\n",
      "54\n",
      "56\n",
      "58\n",
      "60\n",
      "62\n",
      "64\n",
      "66\n",
      "68\n",
      "70\n",
      "72\n",
      "74\n",
      "76\n"
     ]
    }
   ],
   "source": [
    "18.\n",
    "def cetak_bilangan_genap(nim):\n",
    "    nim_str = ''.join(filter(str.isdigit, str(nim)))  \n",
    "    tiga_angka_terakhir = int(nim_str[-3:]) if len(nim_str) >= 3 else 0\n",
    "    print(f\"Bilangan genap dari 2 sampai {tiga_angka_terakhir}:\")\n",
    "    for i in range(2, tiga_angka_terakhir + 1, 2):\n",
    "        print(i)\n",
    "nim = \"H061241077\"  \n",
    "cetak_bilangan_genap(nim)"
   ]
  },
  {
   "cell_type": "code",
   "execution_count": 76,
   "metadata": {},
   "outputs": [
    {
     "name": "stdout",
     "output_type": "stream",
     "text": [
      "Faktorial dari 5 adalah: 120\n"
     ]
    }
   ],
   "source": [
    "19.\n",
    "def faktorial(n):\n",
    "    if n < 0:\n",
    "        return None\n",
    "    elif n == 0 or n == 1:\n",
    "        return 1\n",
    "    else:\n",
    "        hasil = 1\n",
    "        for i in range(2, n + 1):\n",
    "            hasil *= i\n",
    "        return hasil\n",
    "\n",
    "def cetak_faktorial(nim):\n",
    "    nim_str = ''.join(filter(str.isdigit, str(nim)))  \n",
    "    tiga_angka_terakhir = int(nim_str[-3:]) if len(nim_str) >= 3 else 0\n",
    "    nilai = tiga_angka_terakhir % 6\n",
    "    faktorial_nilai = faktorial(nilai)\n",
    "    print(f\"Faktorial dari {nilai} adalah: {faktorial_nilai}\")\n",
    "nim = \"H061241077\"  \n",
    "cetak_faktorial(nim)"
   ]
  },
  {
   "cell_type": "code",
   "execution_count": 75,
   "metadata": {},
   "outputs": [
    {
     "name": "stdout",
     "output_type": "stream",
     "text": [
      "Pesan akan dicetak sebanyak 1 kali:\n",
      "Selamat Datang\n"
     ]
    }
   ],
   "source": [
    "20.\n",
    "def cetak_pesan(nim):\n",
    "   nim_str = ''.join(filter(str.isdigit, str(nim)))  \n",
    "   tiga_angka_terakhir = int(nim_str[-3:]) if len(nim_str) >= 3 else 0\n",
    "   jumlah_cetak = tiga_angka_terakhir % 4\n",
    "   print(f\"Pesan akan dicetak sebanyak {jumlah_cetak} kali:\")\n",
    "   for _ in range(jumlah_cetak):\n",
    "        print(\"Selamat Datang\")\n",
    "nim = \"H061241077\" \n",
    "cetak_pesan(nim)"
   ]
  }
 ],
 "metadata": {
  "kernelspec": {
   "display_name": "PengprogArya",
   "language": "python",
   "name": "python3"
  },
  "language_info": {
   "codemirror_mode": {
    "name": "ipython",
    "version": 3
   },
   "file_extension": ".py",
   "mimetype": "text/x-python",
   "name": "python",
   "nbconvert_exporter": "python",
   "pygments_lexer": "ipython3",
   "version": "3.13.2"
  }
 },
 "nbformat": 4,
 "nbformat_minor": 2
}
